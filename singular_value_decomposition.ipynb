{
  "cells": [
    {
      "cell_type": "code",
      "execution_count": null,
      "metadata": {
        "id": "CaCFAuK-UVIt"
      },
      "outputs": [],
      "source": [
        "import numpy as np\n",
        "import matplotlib.pyplot as plt\n",
        "import pandas as pd\n",
        "from scipy.linalg import svd\n",
        "from math import *"
      ]
    },
    {
      "cell_type": "markdown",
      "metadata": {
        "id": "6vOSnWWIUmnP"
      },
      "source": [
        "# Сингулярное разложение\n"
      ]
    },
    {
      "cell_type": "markdown",
      "metadata": {
        "id": "7_iLban-nPKq"
      },
      "source": [
        "## Типовая матрица\n",
        "\n",
        "Построю сингулярное разложение для матрицы A:\n",
        "\n",
        "$$A=\\left(\n",
        "\\begin{array}{rrr}\n",
        "1 & -1 & -2 \\\\\n",
        "-7/3 &  1/3 & 2/3\\\\\n",
        "1/3 & -7/3 & -2/3 \\\\\n",
        "-5/3 & 5/3 & -2/3\n",
        "\\end{array}\n",
        "\\right) \\, $$\n",
        "\n",
        "Составлю матрицы $U$, $\\Sigma$, $V$ (в неусеченном виде)\n",
        "\n",
        "При написании собственной реализации можно использовать *np.linalg.solve* и *np.linalg.inv*"
      ]
    },
    {
      "cell_type": "code",
      "execution_count": null,
      "metadata": {
        "colab": {
          "base_uri": "https://localhost:8080/"
        },
        "id": "HOgqr7V2Ulzb",
        "outputId": "7b854246-5982-4b0d-958f-80586c414c8f",
        "scrolled": true
      },
      "outputs": [
        {
          "output_type": "stream",
          "name": "stdout",
          "text": [
            "[[ 1.         -1.         -2.        ]\n",
            " [-2.33333333  0.33333333  0.66666667]\n",
            " [ 0.33333333 -2.33333333 -0.66666667]\n",
            " [-1.66666667  1.66666667 -0.66666667]]\n"
          ]
        }
      ],
      "source": [
        "A = np.array([[1, -1, -2],\n",
        "              [-7/3, 1/3, 2/3],\n",
        "              [1/3, -7/3, -2/3],\n",
        "              [-5/3, 5/3, -2/3]])\n",
        "\n",
        "print(A)"
      ]
    },
    {
      "cell_type": "code",
      "execution_count": null,
      "metadata": {
        "id": "fLP_iZG-uP09",
        "scrolled": true
      },
      "outputs": [],
      "source": [
        "### svd() ###\n",
        "\n",
        "def do_svd(mat):\n",
        "    U, Sigma, VT = svd(mat)\n",
        "    U = pd.DataFrame(U)\n",
        "    VT = pd.DataFrame(VT)\n",
        "    Sigma = pd.DataFrame(Sigma)\n",
        "    return U, Sigma, VT"
      ]
    },
    {
      "cell_type": "code",
      "execution_count": null,
      "metadata": {
        "colab": {
          "base_uri": "https://localhost:8080/"
        },
        "id": "XCxCNp6viTtd",
        "outputId": "df549a47-915b-4fe8-98c7-8622a62557d9"
      },
      "outputs": [
        {
          "output_type": "stream",
          "name": "stdout",
          "text": [
            "U:\n",
            "     0         1         2    3\n",
            "0 -0.5  0.670820 -0.223607 -0.5\n",
            "1  0.5 -0.223607 -0.670820 -0.5\n",
            "2 -0.5 -0.223607 -0.670820  0.5\n",
            "3  0.5  0.670820 -0.223607  0.5 \n",
            "\n",
            "\n",
            "Sigmas:\n",
            "[[4. 2. 2.]] \n",
            "\n",
            "\n",
            "V^T:\n",
            "           0         1         2\n",
            "0 -0.666667  0.666667  0.333333\n",
            "1 -0.000000  0.447214 -0.894427\n",
            "2  0.745356  0.596285  0.298142 \n",
            "\n",
            "[[4. 0. 0.]\n",
            " [0. 2. 0.]\n",
            " [0. 0. 2.]\n",
            " [0. 0. 0.]] \n",
            "\n",
            "Check tre Result of (U * Sigma * VT) :\n",
            "          0         1         2\n",
            "0  1.000000 -1.000000 -2.000000\n",
            "1 -2.333333  0.333333  0.666667\n",
            "2  0.333333 -2.333333 -0.666667\n",
            "3 -1.666667  1.666667 -0.666667\n"
          ]
        }
      ],
      "source": [
        "U = do_svd(A)[0]\n",
        "\n",
        "Sigmas = do_svd(A)[1].to_numpy().T\n",
        "\n",
        "VT = do_svd(A)[2]\n",
        "\n",
        "print('U:')\n",
        "print(U,'\\n\\n')\n",
        "print('Sigmas:')\n",
        "print(Sigmas,'\\n\\n')\n",
        "print('V^T:\\n',VT,'\\n')\n",
        "\n",
        "\n",
        "Sigma = np.eye(4,3) * Sigmas\n",
        "\n",
        "print(Sigma,'\\n')\n",
        "\n",
        "print('Check tre Result of (U * Sigma * VT) :')\n",
        "print(U @ Sigma @ VT)"
      ]
    },
    {
      "cell_type": "markdown",
      "metadata": {
        "id": "mCfNQvO3uWq0"
      },
      "source": [
        "## Работа с датасетом\n",
        "\n",
        "Будем использовать [MovieLens 100k](http://grouplens.org/datasets/movielens/) (*MovieLens Latest Datasets (small)*, ratings.csv)\n",
        "Мне нужно:\n",
        "- скачать датасет\n",
        "- предобработать данные: составить список уникальных пользователей и фильмов\n",
        "- составить матрицу **users - movies** (функция *create_utility_matrix*); значения матрицы - Nan, если нет информации об оценке пользователем фильма, или число, если оценка есть\n",
        "- составить сингулярное разложение (используя пакетную функцию или собственную реализацию)\n",
        "- выбрать одного пользователя (один фильм) и найти максимально похожих на него\n",
        "- вывести рекомендации для пользователя\n"
      ]
    },
    {
      "cell_type": "code",
      "execution_count": null,
      "metadata": {
        "id": "bzfY5CJZ3M-e",
        "scrolled": true,
        "colab": {
          "base_uri": "https://localhost:8080/"
        },
        "outputId": "611b4ea8-d123-44e6-99c9-c59eb3b5b9f1"
      },
      "outputs": [
        {
          "output_type": "stream",
          "name": "stdout",
          "text": [
            "   userId  movieId  rating  timestamp\n",
            "0       1        1     4.0  964982703\n",
            "1       1        3     4.0  964981247\n",
            "2       1        6     4.0  964982224\n",
            "3       1       47     5.0  964983815\n",
            "4       1       50     5.0  964982931\n",
            "\n",
            "[ 1  2  3  4  5  6  7  8  9 10]\n",
            "\n",
            "[     1      3      6 ... 160836 163937 163981]\n",
            "9724\n"
          ]
        }
      ],
      "source": [
        "\n",
        "data = pd.read_csv(\"ratings.csv\")\n",
        "print(data.head())\n",
        "data['userId'] = data['userId'].astype('str')\n",
        "data['movieId'] = data['movieId'].astype('str')\n",
        "data['ratingId'] = data['rating'].astype('float')\n",
        "\n",
        "\n",
        "\n",
        "# list of all users\n",
        "users = data['userId'].unique()\n",
        "\n",
        "\n",
        "# list of all movies\n",
        "movies = data['movieId'].unique()\n",
        "\n",
        "movies= movies.astype('int')\n",
        "users = users.astype('int')\n",
        "print()\n",
        "print(users[:10])\n",
        "print()\n",
        "print(movies)\n",
        "print(len(movies))"
      ]
    },
    {
      "cell_type": "code",
      "execution_count": null,
      "metadata": {
        "id": "2hCT0Er1iTtg"
      },
      "outputs": [],
      "source": [
        "\n",
        "def create_utility_matrix(data, formatizer = {'user':0, 'item': 1, 'value': 2}):\n",
        "    \"\"\"\n",
        "        :param data:      Array-like, 2D, nx3\n",
        "        :param formatizer:pass the formatizer\n",
        "        :return:          utility matrix (n x m), n=users, m=movies\n",
        "    \"\"\"\n",
        "\n",
        "    itemField = formatizer['item']\n",
        "    userField = formatizer['user']\n",
        "    valueField = formatizer['value']\n",
        "\n",
        "    userList = data.iloc[:,userField].tolist()  #iloc - вытаскивает все значений значения из столбца\n",
        "    itemList = data.iloc[:,itemField].tolist()\n",
        "    valueList = data.iloc[:,valueField].tolist()\n",
        "\n",
        "    users = data.iloc[:,userField].unique().tolist()   # уникальные пользователи\n",
        "    items = data.iloc[:,itemField].unique().tolist() # уникальные значения\n",
        "\n",
        "    users_index =  {users[i]: i for i in range(len(users))}\n",
        "\n",
        "    pd_dict = {item: [np.nan for i in range(len(users))] for item in items}\n",
        "    # data = data.drop(index=data.index[0], axis=0, inplace=True)\n",
        "    for i in range(len(data)):\n",
        "         item = itemList[i]\n",
        "         user = userList[i]\n",
        "         value = valueList[i]\n",
        "         pd_dict[item][users_index[user]] = value\n",
        "    #\n",
        "    X = pd.DataFrame(pd_dict)\n",
        "    X.index = users\n",
        "\n",
        "    itemcols = list(X.columns)\n",
        "    items_index = {itemcols[i]: i for i in range(len(itemcols))}\n",
        "    #\n",
        "    # # users_index gives us a mapping of user_id to index of user\n",
        "    # # items_index provides the same for items\n",
        "    #\n",
        "    X = X.replace(np.nan, 0)\n",
        "    return X, users_index, items_index\n",
        "\n",
        "user_item_array, users_index, items_index = create_utility_matrix(data)\n",
        "user_item_matrix = np.matrix(user_item_array)\n"
      ]
    },
    {
      "cell_type": "code",
      "execution_count": null,
      "metadata": {
        "colab": {
          "base_uri": "https://localhost:8080/"
        },
        "id": "54HlD9UbiTtk",
        "outputId": "111d5b58-f076-4db6-edb0-d81f09917f62"
      },
      "outputs": [
        {
          "output_type": "execute_result",
          "data": {
            "text/plain": [
              "matrix([[0. , 0. , 4. , 0. , 0. , 0. , 0. , 0. , 0. ],\n",
              "        [0. , 0. , 0. , 0. , 0. , 0. , 0. , 0. , 0. ],\n",
              "        [0. , 3.5, 3. , 3.5, 0. , 0. , 3.5, 0. , 0. ],\n",
              "        [0. , 0. , 0. , 3.5, 0. , 0. , 0. , 0. , 0. ],\n",
              "        [0. , 0. , 0. , 0. , 0. , 0. , 5. , 0. , 0. ]])"
            ]
          },
          "metadata": {},
          "execution_count": 12
        }
      ],
      "source": [
        "user_item_matrix[25:30,1:10]"
      ]
    },
    {
      "cell_type": "code",
      "execution_count": null,
      "metadata": {
        "colab": {
          "base_uri": "https://localhost:8080/"
        },
        "id": "V9loD50ViTtl",
        "outputId": "2ed7d932-22b8-4c4a-fffc-812605d75aa3"
      },
      "outputs": [
        {
          "output_type": "stream",
          "name": "stdout",
          "text": [
            "          0         1         2         3         4         5         6    \\\n",
            "0   -0.055554  0.061674 -0.010897  0.000829 -0.092145  0.052507 -0.005511   \n",
            "1   -0.005866 -0.017738 -0.004423 -0.013342  0.001494 -0.015452 -0.006556   \n",
            "2   -0.001353  0.002069  0.001715  0.001961 -0.007389 -0.000206 -0.001489   \n",
            "3   -0.032362  0.054230  0.034165 -0.036600  0.013853  0.007221 -0.039319   \n",
            "4   -0.011409  0.023086 -0.048545  0.001969  0.024639 -0.032738 -0.006318   \n",
            "..        ...       ...       ...       ...       ...       ...       ...   \n",
            "605 -0.111282  0.072420  0.139288 -0.119315  0.236172 -0.010055  0.002122   \n",
            "606 -0.038982  0.050598 -0.036474 -0.002681 -0.048906  0.023546 -0.019765   \n",
            "607 -0.116114  0.011847 -0.009763  0.084029 -0.046761  0.101980  0.238187   \n",
            "608 -0.007579  0.013785 -0.039741  0.001382  0.008063 -0.026422  0.003577   \n",
            "609 -0.138865 -0.202184  0.092675  0.016582 -0.157839 -0.251973  0.063878   \n",
            "\n",
            "          7         8         9    ...       600       601       602  \\\n",
            "0    0.008209 -0.032978  0.022504  ... -0.002835  0.001189 -0.005405   \n",
            "1   -0.007555 -0.020434  0.015256  ... -0.012050 -0.007819  0.008551   \n",
            "2   -0.000427  0.002158 -0.000721  ... -0.003409 -0.003959 -0.002057   \n",
            "3    0.043229 -0.041367 -0.027452  ... -0.000962  0.000185 -0.004157   \n",
            "4    0.013503  0.004166  0.002414  ...  0.040880 -0.011206 -0.030906   \n",
            "..        ...       ...       ...  ...       ...       ...       ...   \n",
            "605  0.013638  0.139494 -0.523952  ...  0.001079  0.001120 -0.000193   \n",
            "606 -0.027229  0.002487  0.016250  ... -0.005696  0.003188  0.008655   \n",
            "607 -0.007714  0.006513 -0.027357  ...  0.001140  0.001489 -0.001214   \n",
            "608  0.003406  0.004609  0.003889  ... -0.004232  0.010022 -0.012229   \n",
            "609  0.209297  0.194653  0.073889  ... -0.000017  0.000152  0.000956   \n",
            "\n",
            "          603       604       605       606       607       608       609  \n",
            "0    0.002839 -0.001392  0.002991 -0.001046  0.003019 -0.000289  0.000431  \n",
            "1    0.006195 -0.001795  0.021226 -0.002319 -0.003265 -0.008868  0.000886  \n",
            "2   -0.002513 -0.000224 -0.000172  0.001947 -0.002295 -0.002145 -0.001619  \n",
            "3   -0.001668  0.003251  0.001843  0.000766  0.001742  0.001073  0.002073  \n",
            "4    0.045345  0.044326  0.027710  0.020745  0.010420  0.029987  0.002798  \n",
            "..        ...       ...       ...       ...       ...       ...       ...  \n",
            "605  0.000352 -0.000656 -0.000389  0.000679  0.000230 -0.000521  0.000125  \n",
            "606  0.001609 -0.000556  0.001371  0.000265 -0.000397  0.001413 -0.000776  \n",
            "607  0.001718 -0.002688 -0.000793 -0.001491  0.000884 -0.000766  0.001379  \n",
            "608  0.013167  0.025598 -0.057431 -0.005652  0.012190 -0.003210 -0.017573  \n",
            "609  0.000984 -0.001202 -0.000089 -0.000130 -0.000077 -0.000338  0.000705  \n",
            "\n",
            "[610 rows x 610 columns]\n"
          ]
        }
      ],
      "source": [
        "k = 10 # точность\n",
        "U = do_svd(user_item_matrix)[0]\n",
        "VT = do_svd(user_item_matrix)[2]\n",
        "print(U)"
      ]
    },
    {
      "cell_type": "code",
      "execution_count": null,
      "metadata": {
        "colab": {
          "base_uri": "https://localhost:8080/"
        },
        "id": "lP3LRQmqiTtm",
        "outputId": "6dd46811-0bc7-4196-f766-ad5f2cca9254"
      },
      "outputs": [
        {
          "output_type": "stream",
          "name": "stdout",
          "text": [
            "Индексы фильмов, похожие на 10 [754, 457, 30, 725, 93, 518, 11, 310, 1152, 41]\n",
            "Индекса фильмов, рекомендованные для 10 пользователя [  0   7  16  20  26  69  84 184 192 203]\n"
          ]
        }
      ],
      "source": [
        "# по похожести фильмов\n",
        "\n",
        "def recommend_movie_item(liked_movie, VT, output_num=10):\n",
        "    global rec\n",
        "    rec = []\n",
        "    for item in range(len(VT.columns)):\n",
        "        if item != liked_movie:\n",
        "            rec.append([item,np.dot(VT[item],VT[liked_movie])]) # перемножаем векторы фильмов\n",
        "    final_rec = [i[0] for i in sorted(rec, key=lambda x: x[1],reverse=True)] # сортируем в порядке убывания скалярных произведений\n",
        "    return final_rec[:output_num]\n",
        "\n",
        "\n",
        "# по похожести пользователей\n",
        "\n",
        "def recommend_movie_user(target_user, U, output_num=10):\n",
        "    global rec\n",
        "    users_similarity = []\n",
        "    for user in range(U.shape[0]):\n",
        "        if user != target_user:\n",
        "            users_similarity.append([user, np.dot(U.iloc[user], U.iloc[target_user])])\n",
        "    sorted_users = [i[0] for i in sorted(users_similarity, key=lambda x: x[1],reverse=True)]\n",
        "    all_movies = np.array(user_item_array.iloc[sorted_users[0]])\n",
        "    rec_movies = all_movies.nonzero()\n",
        "    return rec_movies[0][:output_num]\n",
        "\n",
        "\n",
        "print(f'Индексы фильмов, похожие на 10 {recommend_movie_item(10, VT)}')\n",
        "print(f'Индекса фильмов, рекомендованные для 10 пользователя {recommend_movie_user(10, U)}')"
      ]
    },
    {
      "cell_type": "markdown",
      "source": [
        "А вот еще мои наработки по собственной реализации SVD."
      ],
      "metadata": {
        "id": "RO7LJZHJlf84"
      }
    },
    {
      "cell_type": "code",
      "source": [
        "import random as R\n",
        "import math as M\n",
        "\n",
        "class Matrix:\n",
        "    rows = 0\n",
        "    cols = 0\n",
        "    elements = []\n",
        "\n",
        "    def setSize(self, r, c):\n",
        "\n",
        "        self.rows = r\n",
        "        self.cols = c\n",
        "\n",
        "        self.elements = []\n",
        "\n",
        "        for i in range(self.rows):\n",
        "            self.elements.append([0] * self.cols)\n",
        "\n",
        "    def printMatrix(self):\n",
        "        for i in range(self.rows):\n",
        "            print(self.elements[i])\n",
        "\n",
        "    def inputMatrix(self):\n",
        "        for i in range(self.rows):\n",
        "            for j in range(self.cols):\n",
        "                self.elements[i][j] = float(input())\n",
        "\n",
        "    def setRandom(self):\n",
        "        for i in range(self.rows):\n",
        "            for j in range(self.cols):\n",
        "                self.elements[i][j] = (R.random() - 0.5) * 2.\n",
        "\n",
        "    def getNorm(self):\n",
        "\n",
        "        n = 0.\n",
        "        for i in range(self.rows):\n",
        "            for j in range(self.cols):\n",
        "                n += self.elements[i][j] * self.elements[i][j]\n",
        "\n",
        "        return n\n",
        "\n",
        "    def getTranspose(self):\n",
        "\n",
        "        B = Matrix()\n",
        "        B.setSize(self.cols, self.rows)\n",
        "\n",
        "        for i in range(self.rows):\n",
        "            for j in range(self.cols):\n",
        "                B.elements[j][i] = self.elements[i][j]\n",
        "\n",
        "        return B\n",
        "\n",
        "\n",
        "def mult(A, B):\n",
        "    C = Matrix()\n",
        "\n",
        "    C.setSize(A.rows, B.cols)\n",
        "    for i in range(C.rows):\n",
        "        for j in range(C.cols):\n",
        "            for k in range(A.cols):\n",
        "                C.elements[i][j] += A.elements[i][k] * B.elements[k][j]\n",
        "\n",
        "    return C\n",
        "\n",
        "\n",
        "def sub(A, B):\n",
        "    C = Matrix()\n",
        "    C.setSize(A.rows, A.cols)\n",
        "\n",
        "    for i in range(C.rows):\n",
        "        for j in range(C.cols):\n",
        "            C.elements[i][j] = A.elements[i][j] - B.elements[i][j]\n",
        "\n",
        "    return C\n",
        "\n",
        "\n",
        "def updateRow(A, a, b):\n",
        "    aNorm = a.getNorm()\n",
        "    for i in range(A.cols):\n",
        "        b.elements[0][i] = 0\n",
        "        for j in range(A.rows):\n",
        "            b.elements[0][i] += A.elements[j][i] * a.elements[j][0] / aNorm\n",
        "\n",
        "\n",
        "def updateCol(A, a, b):\n",
        "    bNorm = b.getNorm()\n",
        "    for i in range(A.rows):\n",
        "        a.elements[i][0] = 0\n",
        "        for j in range(A.cols):\n",
        "            a.elements[i][0] += A.elements[i][j] * b.elements[0][j] / bNorm\n",
        "\n",
        "\n",
        "def bigStep(A, U, V, iter_numb):\n",
        "    n = A.getNorm()\n",
        "    t = 0.00000001\n",
        "\n",
        "    if n / (A.rows * A.cols) < t:\n",
        "        U.setSize(A.rows, iter_numb)\n",
        "        V.setSize(iter_numb, A.cols)\n",
        "\n",
        "        return\n",
        "\n",
        "\n",
        "    a = Matrix()\n",
        "    a.setSize(A.rows, 1)\n",
        "\n",
        "    b = Matrix()\n",
        "    b.setSize(1, A.cols)\n",
        "\n",
        "    a.setRandom()\n",
        "    updateRow(A, a, b)\n",
        "    updateCol(A, a, b)\n",
        "\n",
        "    n0 = mult(a, b).getNorm()\n",
        "\n",
        "    updateRow(A, a, b)\n",
        "    updateCol(A, a, b)\n",
        "\n",
        "    n1 = mult(a, b).getNorm()\n",
        "\n",
        "    while abs(n1 - n0) > t:\n",
        "        updateRow(A, a, b)\n",
        "        updateCol(A, a, b)\n",
        "\n",
        "        n0 = n1\n",
        "        n1 = mult(a, b).getNorm()\n",
        "\n",
        "    A = sub(A, mult(a, b))\n",
        "\n",
        "    bigStep(A, U, V, iter_numb + 1)\n",
        "\n",
        "    for i in range(A.rows):\n",
        "        U.elements[i][iter_numb] = a.elements[i][0]\n",
        "\n",
        "    for i in range(A.cols):\n",
        "        V.elements[iter_numb][i] = b.elements[0][i]\n",
        "\n",
        "\n",
        "\n",
        "try:\n",
        "    print('Enter rows number')\n",
        "    r = int(input())\n",
        "\n",
        "    print('\\nEnter cols number')\n",
        "    c = int(input())\n",
        "\n",
        "    if r > 0 and c > 0:\n",
        "        A = Matrix()\n",
        "        A.setSize(r, c)\n",
        "\n",
        "        print('\\nEnter matrix elements')\n",
        "        A.inputMatrix()\n",
        "\n",
        "        print('\\nYour matrix is:')\n",
        "        A.printMatrix()\n",
        "\n",
        "        U = Matrix()\n",
        "        V = Matrix()\n",
        "\n",
        "        bigStep(A, U, V, 0)\n",
        "\n",
        "        S = Matrix()\n",
        "        S.setSize(U.cols, U.cols)\n",
        "\n",
        "        for i in range(S.rows):\n",
        "\n",
        "            n = 0\n",
        "            for j in range(U.rows):\n",
        "                n += U.elements[j][i] * U.elements[j][i]\n",
        "\n",
        "            n = M.sqrt(n)\n",
        "            for j in range(U.rows):\n",
        "                U.elements[j][i] /= n\n",
        "\n",
        "            S.elements[i][i] = n\n",
        "\n",
        "            n = 0\n",
        "            for j in range(V.cols):\n",
        "                n += V.elements[i][j] * V.elements[i][j]\n",
        "\n",
        "            n = M.sqrt(n)\n",
        "            for j in range(V.cols):\n",
        "                V.elements[i][j] /= n\n",
        "\n",
        "            S.elements[i][i] *= n\n",
        "\n",
        "        print(\"\\nLeft matrix is:\")\n",
        "        U.printMatrix()\n",
        "\n",
        "        print(\"\\nRight matrix is:\")\n",
        "        V.printMatrix()\n",
        "\n",
        "        print(\"\\nSingular numbers are:\")\n",
        "        S.printMatrix()\n",
        "\n",
        "        print(\"\\nCheck matrix A:\")\n",
        "        mult(U, mult(S, V)).printMatrix()\n",
        "\n",
        "        print(\"\\nCheck matrix U:\")\n",
        "        mult(U.getTranspose(), U).printMatrix()\n",
        "\n",
        "        print(\"\\nCheck matrix V:\")\n",
        "        mult(V, V.getTranspose()).printMatrix()\n",
        "\n",
        "    else:\n",
        "        print('Incorrect matrix size')\n",
        "\n",
        "except ValueError:\n",
        "    print('Incorrect number format')\n"
      ],
      "metadata": {
        "colab": {
          "base_uri": "https://localhost:8080/"
        },
        "id": "HxEyN14JldTZ",
        "outputId": "a5822c5b-2ba1-4aed-f334-a2c84830d208"
      },
      "execution_count": null,
      "outputs": [
        {
          "output_type": "stream",
          "name": "stdout",
          "text": [
            "Enter rows number\n",
            "2\n",
            "\n",
            "Enter cols number\n",
            "2\n",
            "\n",
            "Enter matrix elements\n",
            "1\n",
            "2\n",
            "3\n",
            "4\n",
            "\n",
            "Your matrix is:\n",
            "[1.0, 2.0]\n",
            "[3.0, 4.0]\n",
            "\n",
            "Left matrix is:\n",
            "[-0.40455358376513545, 0.9145144010930463]\n",
            "[-0.9145142961500304, -0.40455334653593816]\n",
            "\n",
            "Right matrix is:\n",
            "[-0.576048451029764, -0.8174155504186409]\n",
            "[-0.8174155504186416, 0.5760484510297631]\n",
            "\n",
            "Singular numbers are:\n",
            "[5.464985704219041, 0]\n",
            "[0, 0.36596619062627017]\n",
            "\n",
            "Check matrix A:\n",
            "[0.9999999999999998, 1.9999999999999996]\n",
            "[3.0, 3.999999999999999]\n",
            "\n",
            "Check matrix U:\n",
            "[1.0, -2.594045655501809e-07]\n",
            "[-2.594045655501809e-07, 1.0]\n",
            "\n",
            "Check matrix V:\n",
            "[1.0, 1.1102230246251565e-15]\n",
            "[1.1102230246251565e-15, 1.0]\n"
          ]
        }
      ]
    }
  ],
  "metadata": {
    "colab": {
      "provenance": []
    },
    "kernelspec": {
      "display_name": "Python 3 (ipykernel)",
      "language": "python",
      "name": "python3"
    },
    "language_info": {
      "codemirror_mode": {
        "name": "ipython",
        "version": 3
      },
      "file_extension": ".py",
      "mimetype": "text/x-python",
      "name": "python",
      "nbconvert_exporter": "python",
      "pygments_lexer": "ipython3",
      "version": "3.11.5"
    }
  },
  "nbformat": 4,
  "nbformat_minor": 0
}